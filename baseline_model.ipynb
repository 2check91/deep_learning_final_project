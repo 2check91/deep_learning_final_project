{
 "cells": [
  {
   "cell_type": "code",
   "execution_count": 1,
   "metadata": {
    "collapsed": true
   },
   "outputs": [],
   "source": [
    "import numpy as np\n",
    "from PIL import Image\n",
    "import os,sys\n",
    "from skimage import data, io, filters, transform\n",
    "import sklearn\n",
    "from sklearn.model_selection import train_test_split\n",
    "from sklearn.svm import SVC\n",
    "from sklearn.ensemble import RandomForestClassifier\n",
    "from sklearn.cluster import DBSCAN\n",
    "from sklearn.neighbors import LSHForest\n",
    "from sklearn.neural_network import MLPClassifier"
   ]
  },
  {
   "cell_type": "code",
   "execution_count": null,
   "metadata": {},
   "outputs": [],
   "source": [
    "Coupes = io.imread_collection('/home/ubuntu/project_two/train_directory/Coupe/*')\n",
    "coupe_list = [np.reshape(i, (200,200,3)) for i in Coupes]\n",
    "y_coupe = [0]*1369"
   ]
  },
  {
   "cell_type": "code",
   "execution_count": null,
   "metadata": {},
   "outputs": [],
   "source": [
    "Convertibles = io.imread_collection('/home/ubuntu/project_two/train_directory/Convertible/*')\n",
    "convertible_list = np.array([transform.resize(i, (200,200)) for i in Convertibles])\n",
    "y_convertible = [1]*1369"
   ]
  },
  {
   "cell_type": "code",
   "execution_count": null,
   "metadata": {},
   "outputs": [],
   "source": [
    "Hatchbacks = io.imread_collection('/home/ubuntu/project_two/train_directory/Hatchback/*')\n",
    "hatchback_list = np.array([transform.resize(i, (200,200)) for i in Hatchbacks])\n",
    "y_hatchback = [2]*1369"
   ]
  },
  {
   "cell_type": "code",
   "execution_count": null,
   "metadata": {},
   "outputs": [],
   "source": [
    "SUVS = io.imread_collection('/home/ubuntu/project_two/train_directory/SUV/*')\n",
    "suv_list = np.array([transform.resize(i, (200,200)) for i in SUVS])\n",
    "y_suvs = [3]*1369"
   ]
  },
  {
   "cell_type": "code",
   "execution_count": null,
   "metadata": {},
   "outputs": [],
   "source": [
    "Trucks = io.imread_collection('/home/ubuntu/project_two/train_directory/Truck/*')\n",
    "truck_list = np.array([transform.resize(i, (200,200)) for i in Trucks])\n",
    "y_trucks = [4]*1369"
   ]
  },
  {
   "cell_type": "code",
   "execution_count": null,
   "metadata": {},
   "outputs": [],
   "source": [
    "Sedans = io.imread_collection('/home/ubuntu/project_two/train_directory/Sedan/*')\n",
    "sedan_list = np.array([transform.resize(i, (200,200)) for i in Sedans])\n",
    "y_sedans = [5]*1369"
   ]
  },
  {
   "cell_type": "code",
   "execution_count": null,
   "metadata": {},
   "outputs": [],
   "source": [
    "np.concatenate((coupe_list,convertible_list,hatchback_list,suv_list,truck_list,sedan_list))\n",
    "#X = np.array(coupe_list,convertible_list,hatchback_list + suv_list + truck_list + sedan_list)\n",
    "Y = np.array(y_coupe + y_convertible + y_hatchback + y_suvs + y_trucks + y_sedans)"
   ]
  },
  {
   "cell_type": "code",
   "execution_count": null,
   "metadata": {},
   "outputs": [],
   "source": [
    "X = np.reshape(X,[8214,200*200*3])\n",
    "#X = filters.sobel(X)\n",
    "X_train, X_test, y_train, y_test = train_test_split(X, Y, test_size=0.05, random_state=42)"
   ]
  },
  {
   "cell_type": "code",
   "execution_count": null,
   "metadata": {
    "collapsed": true
   },
   "outputs": [],
   "source": [
    "rcl = RandomForestClassifier(n_estimators=100, max_depth=120000, criterion='entropy', min_samples_split=2)\n",
    "rcl.fit(X_train,y_train)"
   ]
  },
  {
   "cell_type": "code",
   "execution_count": null,
   "metadata": {
    "collapsed": true
   },
   "outputs": [],
   "source": [
    "tree_preds = rcl.predict(X_test)"
   ]
  },
  {
   "cell_type": "code",
   "execution_count": null,
   "metadata": {
    "collapsed": true
   },
   "outputs": [],
   "source": [
    "np.mean(tree_preds == y_test)"
   ]
  }
 ],
 "metadata": {
  "kernelspec": {
   "display_name": "Python 3",
   "language": "python",
   "name": "python3"
  },
  "language_info": {
   "codemirror_mode": {
    "name": "ipython",
    "version": 3
   },
   "file_extension": ".py",
   "mimetype": "text/x-python",
   "name": "python",
   "nbconvert_exporter": "python",
   "pygments_lexer": "ipython3",
   "version": "3.6.1"
  }
 },
 "nbformat": 4,
 "nbformat_minor": 2
}
